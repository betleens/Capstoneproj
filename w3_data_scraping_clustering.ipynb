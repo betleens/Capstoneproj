{
    "nbformat_minor": 1, 
    "cells": [
        {
            "source": "# Segmenting and Clustering Neighborhoods in Toronto", 
            "cell_type": "markdown", 
            "metadata": {
                "collapsed": true
            }
        }, 
        {
            "source": "For this assignment, you will be required to explore and cluster the neighborhoods in Toronto.\n\nStart by creating a new Notebook for this assignment. Use the Notebook to build the code to scrape the following Wikipedia page, https://en.wikipedia.org/wiki/List_of_postal_codes_of_Canada:_M, in order to obtain the data that is in the table of postal codes and to transform the data into a pandas dataframe like the one shown below.", 
            "cell_type": "markdown", 
            "metadata": {}
        }, 
        {
            "source": "## Import libraries", 
            "cell_type": "markdown", 
            "metadata": {}
        }, 
        {
            "source": "import pandas as pd\nimport numpy as np\n\n#json tools\nimport json\nfrom pandas.io.json import json_normalize\n\n#scraping\nimport requests\nfrom urllib.request import urlopen\nfrom bs4 import BeautifulSoup\n\n#geocoders\nfrom geopy.geocoders import Nominatim\n\n#visualization libraries\nimport matplotlib.cm as cm\nimport matplotlib.colors as colors\nimport folium\n\n#kmeans clustering\nfrom sklearn.cluster import KMeans\n\nprint('Done!')", 
            "cell_type": "code", 
            "metadata": {}, 
            "outputs": [
                {
                    "output_type": "stream", 
                    "name": "stdout", 
                    "text": "Done!\n"
                }
            ], 
            "execution_count": 19
        }, 
        {
            "source": "## Task 1 - Scraping Wikipedia page, creating Pandas DF, cleaning data", 
            "cell_type": "markdown", 
            "metadata": {}
        }, 
        {
            "source": "Using BeautifulSoup and URLopen libraries", 
            "cell_type": "markdown", 
            "metadata": {}
        }, 
        {
            "source": "wlink = 'https://en.wikipedia.org/wiki/List_of_postal_codes_of_Canada:_M'\nraw_page = urlopen(wlink).read().decode('utf-8')\npage = BeautifulSoup(raw_page, 'html.parser')\ntable = page.body.table.tbody", 
            "cell_type": "code", 
            "metadata": {}, 
            "outputs": [], 
            "execution_count": 6
        }, 
        {
            "source": "Next, transforming the table data to Pandas Dataframe", 
            "cell_type": "markdown", 
            "metadata": {}
        }, 
        {
            "source": "#functions for getting cell and row data\n\ndef table_cell(i):\n    cells = i.find_all('td')\n    row = []\n    \n    for cell in cells:\n        if cell.a:            \n            if (cell.a.text):\n                row.append(cell.a.text)\n                continue\n        row.append(cell.string.strip())\n        \n    return row\n\ndef table_row():    \n    data = []  \n    \n    for tr in table.find_all('tr'):\n        row = table_cell(tr)\n        if len(row) != 3:\n            continue\n        data.append(row)        \n    \n    return data", 
            "cell_type": "code", 
            "metadata": {}, 
            "outputs": [], 
            "execution_count": 7
        }, 
        {
            "source": "#writing into pandas dataframe\ndata = table_row()\ncolumns = ['Postcode', 'Borough', 'Neighbourhood']\ndf = pd.DataFrame(data, columns=columns)\ndf.head()", 
            "cell_type": "code", 
            "metadata": {}, 
            "outputs": [
                {
                    "output_type": "execute_result", 
                    "data": {
                        "text/plain": "  Postcode           Borough     Neighbourhood\n0      M1A      Not assigned      Not assigned\n1      M2A      Not assigned      Not assigned\n2      M3A        North York         Parkwoods\n3      M4A        North York  Victoria Village\n4      M5A  Downtown Toronto      Harbourfront", 
                        "text/html": "<div>\n<style scoped>\n    .dataframe tbody tr th:only-of-type {\n        vertical-align: middle;\n    }\n\n    .dataframe tbody tr th {\n        vertical-align: top;\n    }\n\n    .dataframe thead th {\n        text-align: right;\n    }\n</style>\n<table border=\"1\" class=\"dataframe\">\n  <thead>\n    <tr style=\"text-align: right;\">\n      <th></th>\n      <th>Postcode</th>\n      <th>Borough</th>\n      <th>Neighbourhood</th>\n    </tr>\n  </thead>\n  <tbody>\n    <tr>\n      <th>0</th>\n      <td>M1A</td>\n      <td>Not assigned</td>\n      <td>Not assigned</td>\n    </tr>\n    <tr>\n      <th>1</th>\n      <td>M2A</td>\n      <td>Not assigned</td>\n      <td>Not assigned</td>\n    </tr>\n    <tr>\n      <th>2</th>\n      <td>M3A</td>\n      <td>North York</td>\n      <td>Parkwoods</td>\n    </tr>\n    <tr>\n      <th>3</th>\n      <td>M4A</td>\n      <td>North York</td>\n      <td>Victoria Village</td>\n    </tr>\n    <tr>\n      <th>4</th>\n      <td>M5A</td>\n      <td>Downtown Toronto</td>\n      <td>Harbourfront</td>\n    </tr>\n  </tbody>\n</table>\n</div>"
                    }, 
                    "execution_count": 8, 
                    "metadata": {}
                }
            ], 
            "execution_count": 8
        }, 
        {
            "source": "## Cleaning the data:", 
            "cell_type": "markdown", 
            "metadata": {}
        }, 
        {
            "source": "1. Only process the cells that have an assigned borough. Ignore cells with a borough that is Not assigned.\n2. More than one neighborhood can exist in one postal code area. For example, in the table on the Wikipedia page, you will notice that M5A is listed    twice and has two neighborhoods: Harbourfront and Regent Park. These two rows will be combined into one row with the neighborhoods separated with    a comma as shown in row 11 in the above table.\n3. If a cell has a borough but a Not assigned neighborhood, then the neighborhood will be the same as the borough. So for the 9th cell in the table      on the Wikipedia page, the value of the Borough and the Neighborhood columns will be Queen's Park.\n4. Clean your Notebook and add Markdown cells to explain your work and any assumptions you are making.\n5. In the last cell of your notebook, use the .shape method to print the number of rows of your dataframe.", 
            "cell_type": "markdown", 
            "metadata": {}
        }, 
        {
            "source": "#dropping the \"Not Assigned\" borough\ndf1 = df[df.Borough != 'Not assigned']\ndf1 = df1.sort_values(by=['Postcode','Borough'])\n\ndf1.reset_index(inplace=True)\ndf1.drop('index',axis=1,inplace=True)\ndf1.head()", 
            "cell_type": "code", 
            "metadata": {}, 
            "outputs": [
                {
                    "output_type": "execute_result", 
                    "data": {
                        "text/plain": "  Postcode      Borough   Neighbourhood\n0      M1B  Scarborough           Rouge\n1      M1B  Scarborough         Malvern\n2      M1C  Scarborough  Highland Creek\n3      M1C  Scarborough      Rouge Hill\n4      M1C  Scarborough      Port Union", 
                        "text/html": "<div>\n<style scoped>\n    .dataframe tbody tr th:only-of-type {\n        vertical-align: middle;\n    }\n\n    .dataframe tbody tr th {\n        vertical-align: top;\n    }\n\n    .dataframe thead th {\n        text-align: right;\n    }\n</style>\n<table border=\"1\" class=\"dataframe\">\n  <thead>\n    <tr style=\"text-align: right;\">\n      <th></th>\n      <th>Postcode</th>\n      <th>Borough</th>\n      <th>Neighbourhood</th>\n    </tr>\n  </thead>\n  <tbody>\n    <tr>\n      <th>0</th>\n      <td>M1B</td>\n      <td>Scarborough</td>\n      <td>Rouge</td>\n    </tr>\n    <tr>\n      <th>1</th>\n      <td>M1B</td>\n      <td>Scarborough</td>\n      <td>Malvern</td>\n    </tr>\n    <tr>\n      <th>2</th>\n      <td>M1C</td>\n      <td>Scarborough</td>\n      <td>Highland Creek</td>\n    </tr>\n    <tr>\n      <th>3</th>\n      <td>M1C</td>\n      <td>Scarborough</td>\n      <td>Rouge Hill</td>\n    </tr>\n    <tr>\n      <th>4</th>\n      <td>M1C</td>\n      <td>Scarborough</td>\n      <td>Port Union</td>\n    </tr>\n  </tbody>\n</table>\n</div>"
                    }, 
                    "execution_count": 9, 
                    "metadata": {}
                }
            ], 
            "execution_count": 9
        }, 
        {
            "source": "#Consolidating the neighbourhoods that share the postcode\n\ndf_postcodes = df1['Postcode']\ndf_postcodes.drop_duplicates(inplace=True)\ndf2 = pd.DataFrame(df_postcodes)\ndf2['Borough'] = '';\ndf2['Neighbourhood'] = '';\n\n\ndf2.reset_index(inplace=True)\ndf2.drop('index', axis=1, inplace=True)\ndf1.reset_index(inplace=True)\ndf1.drop('index', axis=1, inplace=True)\n\nfor i in df2.index:\n    for j in df1.index:\n        if df2.iloc[i, 0] == df1.iloc[j, 0]:\n            df2.iloc[i, 1] = df1.iloc[j, 1]\n            df2.iloc[i, 2] = df2.iloc[i, 2] + ',' + df1.iloc[j, 2]\n            \nfor i in df2.index:\n    s = df2.iloc[i, 2]\n    if s[0] == ',':\n        s =s [1:]\n    df2.iloc[i,2 ] = s\n    \ndf2.head()", 
            "cell_type": "code", 
            "metadata": {}, 
            "outputs": [
                {
                    "output_type": "execute_result", 
                    "data": {
                        "text/plain": "  Postcode      Borough                         Neighbourhood\n0      M1B  Scarborough                         Rouge,Malvern\n1      M1C  Scarborough  Highland Creek,Rouge Hill,Port Union\n2      M1E  Scarborough       Guildwood,Morningside,West Hill\n3      M1G  Scarborough                                Woburn\n4      M1H  Scarborough                             Cedarbrae", 
                        "text/html": "<div>\n<style scoped>\n    .dataframe tbody tr th:only-of-type {\n        vertical-align: middle;\n    }\n\n    .dataframe tbody tr th {\n        vertical-align: top;\n    }\n\n    .dataframe thead th {\n        text-align: right;\n    }\n</style>\n<table border=\"1\" class=\"dataframe\">\n  <thead>\n    <tr style=\"text-align: right;\">\n      <th></th>\n      <th>Postcode</th>\n      <th>Borough</th>\n      <th>Neighbourhood</th>\n    </tr>\n  </thead>\n  <tbody>\n    <tr>\n      <th>0</th>\n      <td>M1B</td>\n      <td>Scarborough</td>\n      <td>Rouge,Malvern</td>\n    </tr>\n    <tr>\n      <th>1</th>\n      <td>M1C</td>\n      <td>Scarborough</td>\n      <td>Highland Creek,Rouge Hill,Port Union</td>\n    </tr>\n    <tr>\n      <th>2</th>\n      <td>M1E</td>\n      <td>Scarborough</td>\n      <td>Guildwood,Morningside,West Hill</td>\n    </tr>\n    <tr>\n      <th>3</th>\n      <td>M1G</td>\n      <td>Scarborough</td>\n      <td>Woburn</td>\n    </tr>\n    <tr>\n      <th>4</th>\n      <td>M1H</td>\n      <td>Scarborough</td>\n      <td>Cedarbrae</td>\n    </tr>\n  </tbody>\n</table>\n</div>"
                    }, 
                    "execution_count": 10, 
                    "metadata": {}
                }
            ], 
            "execution_count": 10
        }, 
        {
            "source": "#Checking dataframe shape\ndf2.shape", 
            "cell_type": "code", 
            "metadata": {}, 
            "outputs": [
                {
                    "output_type": "execute_result", 
                    "data": {
                        "text/plain": "(103, 3)"
                    }, 
                    "execution_count": 11, 
                    "metadata": {}
                }
            ], 
            "execution_count": 11
        }, 
        {
            "source": "## Task 2 - Get Coordinates", 
            "cell_type": "markdown", 
            "metadata": {}
        }, 
        {
            "source": "Now that you have built a dataframe of the postal code of each neighborhood along with the borough name and neighborhood name, in order to utilize the Foursquare location data, we need to get the latitude and the longitude coordinates of each neighborhood.\n\nUsing the provided Geospatial_Coordinates.csv file to get the coordinates:", 
            "cell_type": "markdown", 
            "metadata": {}
        }, 
        {
            "source": "#reading the file to coord dataframe\ndf2['Latitude'] = '0';\ndf2['Longitude'] = '0';\n\ncoord = pd.read_csv('https://cocl.us/Geospatial_data')", 
            "cell_type": "code", 
            "metadata": {}, 
            "outputs": [], 
            "execution_count": 12
        }, 
        {
            "source": "#merging dataframe that contain coordinates with the one that contains borough names\nfor i in df2.index:\n    for j in coord.index:\n        if df2.iloc[i, 0] == coord.iloc[j, 0]:\n            df2.iloc[i, 3] = coord.iloc[j, 1]\n            df2.iloc[i, 4] = coord.iloc[j, 2]\n\n#checking the results            \ndf2.head()", 
            "cell_type": "code", 
            "metadata": {}, 
            "outputs": [
                {
                    "output_type": "execute_result", 
                    "data": {
                        "text/plain": "  Postcode      Borough                         Neighbourhood Latitude  \\\n0      M1B  Scarborough                         Rouge,Malvern  43.8067   \n1      M1C  Scarborough  Highland Creek,Rouge Hill,Port Union  43.7845   \n2      M1E  Scarborough       Guildwood,Morningside,West Hill  43.7636   \n3      M1G  Scarborough                                Woburn   43.771   \n4      M1H  Scarborough                             Cedarbrae  43.7731   \n\n  Longitude  \n0  -79.1944  \n1  -79.1605  \n2  -79.1887  \n3  -79.2169  \n4  -79.2395  ", 
                        "text/html": "<div>\n<style scoped>\n    .dataframe tbody tr th:only-of-type {\n        vertical-align: middle;\n    }\n\n    .dataframe tbody tr th {\n        vertical-align: top;\n    }\n\n    .dataframe thead th {\n        text-align: right;\n    }\n</style>\n<table border=\"1\" class=\"dataframe\">\n  <thead>\n    <tr style=\"text-align: right;\">\n      <th></th>\n      <th>Postcode</th>\n      <th>Borough</th>\n      <th>Neighbourhood</th>\n      <th>Latitude</th>\n      <th>Longitude</th>\n    </tr>\n  </thead>\n  <tbody>\n    <tr>\n      <th>0</th>\n      <td>M1B</td>\n      <td>Scarborough</td>\n      <td>Rouge,Malvern</td>\n      <td>43.8067</td>\n      <td>-79.1944</td>\n    </tr>\n    <tr>\n      <th>1</th>\n      <td>M1C</td>\n      <td>Scarborough</td>\n      <td>Highland Creek,Rouge Hill,Port Union</td>\n      <td>43.7845</td>\n      <td>-79.1605</td>\n    </tr>\n    <tr>\n      <th>2</th>\n      <td>M1E</td>\n      <td>Scarborough</td>\n      <td>Guildwood,Morningside,West Hill</td>\n      <td>43.7636</td>\n      <td>-79.1887</td>\n    </tr>\n    <tr>\n      <th>3</th>\n      <td>M1G</td>\n      <td>Scarborough</td>\n      <td>Woburn</td>\n      <td>43.771</td>\n      <td>-79.2169</td>\n    </tr>\n    <tr>\n      <th>4</th>\n      <td>M1H</td>\n      <td>Scarborough</td>\n      <td>Cedarbrae</td>\n      <td>43.7731</td>\n      <td>-79.2395</td>\n    </tr>\n  </tbody>\n</table>\n</div>"
                    }, 
                    "execution_count": 13, 
                    "metadata": {}
                }
            ], 
            "execution_count": 13
        }, 
        {
            "source": "## Task 3 - Analysis", 
            "cell_type": "markdown", 
            "metadata": {}
        }, 
        {
            "source": "Explore and cluster the neighborhoods in Toronto. You can decide to work with only boroughs that contain the word Toronto and then replicate the same analysis we did to the New York City data. It is up to you.\n\nJust make sure:\n\n1. to add enough Markdown cells to explain what you decided to do and to report any observations you make.\n2. to generate maps to visualize your neighborhoods and how they cluster together.", 
            "cell_type": "markdown", 
            "metadata": {}
        }, 
        {
            "source": "### 3.1 Select only the neighbourhoods of Downtown Toronto", 
            "cell_type": "markdown", 
            "metadata": {}
        }, 
        {
            "source": "Choose the neighbourhoods that contain word \" Downtown Toronto\":", 
            "cell_type": "markdown", 
            "metadata": {}
        }, 
        {
            "source": "toronto = df2[df2['Borough'] == 'Downtown Toronto'].reset_index(drop=True)\ntoronto.head()", 
            "cell_type": "code", 
            "metadata": {}, 
            "outputs": [
                {
                    "output_type": "execute_result", 
                    "data": {
                        "text/plain": "  Postcode           Borough               Neighbourhood Latitude Longitude\n0      M4W  Downtown Toronto                    Rosedale  43.6796  -79.3775\n1      M4X  Downtown Toronto  Cabbagetown,St. James Town   43.668  -79.3677\n2      M4Y  Downtown Toronto        Church and Wellesley  43.6659  -79.3832\n3      M5A  Downtown Toronto    Harbourfront,Regent Park  43.6543  -79.3606\n4      M5B  Downtown Toronto     Ryerson,Garden District  43.6572  -79.3789", 
                        "text/html": "<div>\n<style scoped>\n    .dataframe tbody tr th:only-of-type {\n        vertical-align: middle;\n    }\n\n    .dataframe tbody tr th {\n        vertical-align: top;\n    }\n\n    .dataframe thead th {\n        text-align: right;\n    }\n</style>\n<table border=\"1\" class=\"dataframe\">\n  <thead>\n    <tr style=\"text-align: right;\">\n      <th></th>\n      <th>Postcode</th>\n      <th>Borough</th>\n      <th>Neighbourhood</th>\n      <th>Latitude</th>\n      <th>Longitude</th>\n    </tr>\n  </thead>\n  <tbody>\n    <tr>\n      <th>0</th>\n      <td>M4W</td>\n      <td>Downtown Toronto</td>\n      <td>Rosedale</td>\n      <td>43.6796</td>\n      <td>-79.3775</td>\n    </tr>\n    <tr>\n      <th>1</th>\n      <td>M4X</td>\n      <td>Downtown Toronto</td>\n      <td>Cabbagetown,St. James Town</td>\n      <td>43.668</td>\n      <td>-79.3677</td>\n    </tr>\n    <tr>\n      <th>2</th>\n      <td>M4Y</td>\n      <td>Downtown Toronto</td>\n      <td>Church and Wellesley</td>\n      <td>43.6659</td>\n      <td>-79.3832</td>\n    </tr>\n    <tr>\n      <th>3</th>\n      <td>M5A</td>\n      <td>Downtown Toronto</td>\n      <td>Harbourfront,Regent Park</td>\n      <td>43.6543</td>\n      <td>-79.3606</td>\n    </tr>\n    <tr>\n      <th>4</th>\n      <td>M5B</td>\n      <td>Downtown Toronto</td>\n      <td>Ryerson,Garden District</td>\n      <td>43.6572</td>\n      <td>-79.3789</td>\n    </tr>\n  </tbody>\n</table>\n</div>"
                    }, 
                    "execution_count": 15, 
                    "metadata": {}
                }
            ], 
            "execution_count": 15
        }, 
        {
            "source": "#get the coordinates for Toronto\naddress = 'Toronto, Canada'\n\ngeolocator = Nominatim(user_agent=\"ny_explorer\")\nlocation = geolocator.geocode(address)\nlatitude = location.latitude\nlongitude = location.longitude\nprint('The geograpical coordinates of Toronto are {}, {}.'.format(latitude, longitude))", 
            "cell_type": "code", 
            "metadata": {}, 
            "outputs": [
                {
                    "output_type": "stream", 
                    "name": "stdout", 
                    "text": "The geograpical coordinates of Toronto are 43.653963, -79.387207.\n"
                }
            ], 
            "execution_count": 16
        }, 
        {
            "source": "#create the Folium map of Downtown Toronto\nmap_toronto = folium.Map(location=[latitude, longitude], zoom_start=13)\n\n# add markers to map\nfor lat, lng, label in zip(toronto['Latitude'], toronto['Longitude'], toronto['Neighbourhood']):\n    label = folium.Popup(label, parse_html=True)\n    folium.CircleMarker(\n        [lat, lng],\n        radius=5,\n        popup=label,\n        color='blue',\n        fill=True,\n        fill_color='#3186cc',\n        fill_opacity=0.7,\n        parse_html=False).add_to(map_toronto)  \n    \nmap_toronto", 
            "cell_type": "code", 
            "metadata": {}, 
            "outputs": [], 
            "execution_count": null
        }, 
        {
            "source": "### 3.2 Utilizing the Foursquare API to get top 100 venues in Downtown Toronto", 
            "cell_type": "markdown", 
            "metadata": {}
        }, 
        {
            "source": "#set credintials\nCLIENT_ID = 'IPTYUZQHVW5OCDTT331BXA1SFQCJ3QCNQ2NVFZHQI5M4ZJLY' # your Foursquare ID\nCLIENT_SECRET = '4ARF5SHATZIHJ2FJURJBFIUBZWYKR0UZ4FP5XHAGRE4BCZJ1' # your Foursquare Secret\nVERSION = '20190323' # Foursquare API version", 
            "cell_type": "code", 
            "metadata": {}, 
            "outputs": [], 
            "execution_count": 20
        }, 
        {
            "source": "Borrowing the function from the lab to get Top 100 venues in Downtown Toronto within a radius of 500m:", 
            "cell_type": "markdown", 
            "metadata": {}
        }, 
        {
            "source": "def getNearbyVenues(names, latitudes, longitudes, radius=500):\n    \n    venues_list=[]\n    for name, lat, lng in zip(names, latitudes, longitudes):\n        print(name)\n            \n        # create the API request URL\n        url = 'https://api.foursquare.com/v2/venues/explore?&client_id={}&client_secret={}&v={}&ll={},{}&radius={}&limit={}'.format(\n            CLIENT_ID, \n            CLIENT_SECRET, \n            VERSION, \n            lat, \n            lng, \n            radius, \n            LIMIT)\n            \n        # make the GET request\n        results = requests.get(url).json()[\"response\"]['groups'][0]['items']\n        \n        # return only relevant information for each nearby venue\n        venues_list.append([(\n            name, \n            lat, \n            lng, \n            v['venue']['name'], \n            v['venue']['location']['lat'], \n            v['venue']['location']['lng'],  \n            v['venue']['categories'][0]['name']) for v in results])\n\n    nearby_venues = pd.DataFrame([item for venue_list in venues_list for item in venue_list])\n    nearby_venues.columns = ['Neighborhood', \n                  'Neighborhood Latitude', \n                  'Neighborhood Longitude', \n                  'Venue', \n                  'Venue Latitude', \n                  'Venue Longitude', \n                  'Venue Category']\n    \n    return(nearby_venues)", 
            "cell_type": "code", 
            "metadata": {}, 
            "outputs": [], 
            "execution_count": 21
        }, 
        {
            "source": "Now write the code to run the above function on each neighborhood and create a new dataframe called manhattan_venues.", 
            "cell_type": "markdown", 
            "metadata": {}
        }, 
        {
            "source": "LIMIT = 100 # limit of number of venues returned by Foursquare API\n\ndowntown_venues = getNearbyVenues(names=toronto['Neighbourhood'],\n                                   latitudes=toronto['Latitude'],\n                                   longitudes=toronto['Longitude']\n                                  )", 
            "cell_type": "code", 
            "metadata": {}, 
            "outputs": [
                {
                    "output_type": "stream", 
                    "name": "stdout", 
                    "text": "Rosedale\nCabbagetown,St. James Town\nChurch and Wellesley\nHarbourfront,Regent Park\nRyerson,Garden District\nSt. James Town\nBerczy Park\nCentral Bay Street\nAdelaide,King,Richmond\nHarbourfront East,Toronto Islands,Union Station\nDesign Exchange,Toronto Dominion Centre\nCommerce Court,Victoria Hotel\nHarbord,University of Toronto\nChinatown,Grange Park,Kensington Market\nCN Tower,Bathurst Quay,Island airport,Harbourfront West,King and Spadina,Railway Lands,South Niagara\nStn A PO Boxes 25 The Esplanade\nFirst Canadian Place,Underground city\nChristie\n"
                }
            ], 
            "execution_count": 22
        }, 
        {
            "source": "#checking the size of venues dataframe\ndowntown_venues.shape", 
            "cell_type": "code", 
            "metadata": {}, 
            "outputs": [
                {
                    "output_type": "execute_result", 
                    "data": {
                        "text/plain": "(1273, 7)"
                    }, 
                    "execution_count": 23, 
                    "metadata": {}
                }
            ], 
            "execution_count": 23
        }, 
        {
            "source": "#checking how many unique categories of venues are there\nprint('There are {} unique categories.'.format(len(downtown_venues['Venue Category'].unique())))", 
            "cell_type": "code", 
            "metadata": {}, 
            "outputs": [
                {
                    "output_type": "stream", 
                    "name": "stdout", 
                    "text": "There are 207 unique categories.\n"
                }
            ], 
            "execution_count": 24
        }, 
        {
            "source": "### 3.3 Analyze each neighbourhood", 
            "cell_type": "markdown", 
            "metadata": {}
        }, 
        {
            "source": "# one hot encoding\ndt_onehot = pd.get_dummies(downtown_venues[['Venue Category']], prefix=\"\", prefix_sep=\"\")\n\n# add neighborhood column back to dataframe\ndt_onehot['Neighborhood'] = downtown_venues['Neighborhood'] \n\n# move neighborhood column to the first column\nfixed_columns = [dt_onehot.columns[-1]] + list(dt_onehot.columns[:-1])\ndt_onehot = dt_onehot[fixed_columns]\n\ndt_onehot.head()", 
            "cell_type": "code", 
            "metadata": {}, 
            "outputs": [
                {
                    "output_type": "execute_result", 
                    "data": {
                        "text/plain": "   Yoga Studio  Accessories Store  Afghan Restaurant  Airport  \\\n0            0                  0                  0        0   \n1            0                  0                  0        0   \n2            0                  0                  0        0   \n3            0                  0                  0        0   \n4            0                  0                  0        0   \n\n   Airport Food Court  Airport Gate  Airport Lounge  Airport Service  \\\n0                   0             0               0                0   \n1                   0             0               0                0   \n2                   0             0               0                0   \n3                   0             0               0                0   \n4                   0             0               0                0   \n\n   Airport Terminal  American Restaurant      ...        Toy / Game Store  \\\n0                 0                    0      ...                       0   \n1                 0                    0      ...                       0   \n2                 0                    0      ...                       0   \n3                 0                    0      ...                       0   \n4                 0                    0      ...                       0   \n\n   Trail  Train Station  Vegetarian / Vegan Restaurant  Video Game Store  \\\n0      0              0                              0                 0   \n1      0              0                              0                 0   \n2      0              0                              0                 0   \n3      1              0                              0                 0   \n4      0              0                              0                 0   \n\n   Vietnamese Restaurant  Wine Bar  Wine Shop  Wings Joint  Women's Store  \n0                      0         0          0            0              0  \n1                      0         0          0            0              0  \n2                      0         0          0            0              0  \n3                      0         0          0            0              0  \n4                      0         0          0            0              0  \n\n[5 rows x 207 columns]", 
                        "text/html": "<div>\n<style scoped>\n    .dataframe tbody tr th:only-of-type {\n        vertical-align: middle;\n    }\n\n    .dataframe tbody tr th {\n        vertical-align: top;\n    }\n\n    .dataframe thead th {\n        text-align: right;\n    }\n</style>\n<table border=\"1\" class=\"dataframe\">\n  <thead>\n    <tr style=\"text-align: right;\">\n      <th></th>\n      <th>Yoga Studio</th>\n      <th>Accessories Store</th>\n      <th>Afghan Restaurant</th>\n      <th>Airport</th>\n      <th>Airport Food Court</th>\n      <th>Airport Gate</th>\n      <th>Airport Lounge</th>\n      <th>Airport Service</th>\n      <th>Airport Terminal</th>\n      <th>American Restaurant</th>\n      <th>...</th>\n      <th>Toy / Game Store</th>\n      <th>Trail</th>\n      <th>Train Station</th>\n      <th>Vegetarian / Vegan Restaurant</th>\n      <th>Video Game Store</th>\n      <th>Vietnamese Restaurant</th>\n      <th>Wine Bar</th>\n      <th>Wine Shop</th>\n      <th>Wings Joint</th>\n      <th>Women's Store</th>\n    </tr>\n  </thead>\n  <tbody>\n    <tr>\n      <th>0</th>\n      <td>0</td>\n      <td>0</td>\n      <td>0</td>\n      <td>0</td>\n      <td>0</td>\n      <td>0</td>\n      <td>0</td>\n      <td>0</td>\n      <td>0</td>\n      <td>0</td>\n      <td>...</td>\n      <td>0</td>\n      <td>0</td>\n      <td>0</td>\n      <td>0</td>\n      <td>0</td>\n      <td>0</td>\n      <td>0</td>\n      <td>0</td>\n      <td>0</td>\n      <td>0</td>\n    </tr>\n    <tr>\n      <th>1</th>\n      <td>0</td>\n      <td>0</td>\n      <td>0</td>\n      <td>0</td>\n      <td>0</td>\n      <td>0</td>\n      <td>0</td>\n      <td>0</td>\n      <td>0</td>\n      <td>0</td>\n      <td>...</td>\n      <td>0</td>\n      <td>0</td>\n      <td>0</td>\n      <td>0</td>\n      <td>0</td>\n      <td>0</td>\n      <td>0</td>\n      <td>0</td>\n      <td>0</td>\n      <td>0</td>\n    </tr>\n    <tr>\n      <th>2</th>\n      <td>0</td>\n      <td>0</td>\n      <td>0</td>\n      <td>0</td>\n      <td>0</td>\n      <td>0</td>\n      <td>0</td>\n      <td>0</td>\n      <td>0</td>\n      <td>0</td>\n      <td>...</td>\n      <td>0</td>\n      <td>0</td>\n      <td>0</td>\n      <td>0</td>\n      <td>0</td>\n      <td>0</td>\n      <td>0</td>\n      <td>0</td>\n      <td>0</td>\n      <td>0</td>\n    </tr>\n    <tr>\n      <th>3</th>\n      <td>0</td>\n      <td>0</td>\n      <td>0</td>\n      <td>0</td>\n      <td>0</td>\n      <td>0</td>\n      <td>0</td>\n      <td>0</td>\n      <td>0</td>\n      <td>0</td>\n      <td>...</td>\n      <td>0</td>\n      <td>1</td>\n      <td>0</td>\n      <td>0</td>\n      <td>0</td>\n      <td>0</td>\n      <td>0</td>\n      <td>0</td>\n      <td>0</td>\n      <td>0</td>\n    </tr>\n    <tr>\n      <th>4</th>\n      <td>0</td>\n      <td>0</td>\n      <td>0</td>\n      <td>0</td>\n      <td>0</td>\n      <td>0</td>\n      <td>0</td>\n      <td>0</td>\n      <td>0</td>\n      <td>0</td>\n      <td>...</td>\n      <td>0</td>\n      <td>0</td>\n      <td>0</td>\n      <td>0</td>\n      <td>0</td>\n      <td>0</td>\n      <td>0</td>\n      <td>0</td>\n      <td>0</td>\n      <td>0</td>\n    </tr>\n  </tbody>\n</table>\n<p>5 rows \u00d7 207 columns</p>\n</div>"
                    }, 
                    "execution_count": 25, 
                    "metadata": {}
                }
            ], 
            "execution_count": 25
        }, 
        {
            "source": "#checking the dataframe size\ndt_onehot.shape", 
            "cell_type": "code", 
            "metadata": {}, 
            "outputs": [
                {
                    "output_type": "execute_result", 
                    "data": {
                        "text/plain": "(1273, 207)"
                    }, 
                    "execution_count": 26, 
                    "metadata": {}
                }
            ], 
            "execution_count": 26
        }, 
        {
            "source": "Gouping rows by neighborhood and by taking the mean of the frequency of occurrence of each category:", 
            "cell_type": "markdown", 
            "metadata": {}
        }, 
        {
            "source": "dt_grouped = dt_onehot.groupby('Neighborhood').mean().reset_index()\ndt_grouped", 
            "cell_type": "code", 
            "metadata": {}, 
            "outputs": [
                {
                    "output_type": "execute_result", 
                    "data": {
                        "text/plain": "                                         Neighborhood  Yoga Studio  \\\n0                              Adelaide,King,Richmond     0.000000   \n1                                         Berczy Park     0.000000   \n2   CN Tower,Bathurst Quay,Island airport,Harbourf...     0.000000   \n3                          Cabbagetown,St. James Town     0.000000   \n4                                  Central Bay Street     0.012821   \n5             Chinatown,Grange Park,Kensington Market     0.000000   \n6                                            Christie     0.000000   \n7                                Church and Wellesley     0.012195   \n8                       Commerce Court,Victoria Hotel     0.000000   \n9             Design Exchange,Toronto Dominion Centre     0.000000   \n10              First Canadian Place,Underground city     0.000000   \n11                      Harbord,University of Toronto     0.027778   \n12    Harbourfront East,Toronto Islands,Union Station     0.000000   \n13                           Harbourfront,Regent Park     0.000000   \n14                                           Rosedale     0.000000   \n15                            Ryerson,Garden District     0.000000   \n16                                     St. James Town     0.000000   \n17                    Stn A PO Boxes 25 The Esplanade     0.000000   \n\n    Accessories Store  Afghan Restaurant   Airport  Airport Food Court  \\\n0                0.01           0.000000  0.000000            0.000000   \n1                0.00           0.000000  0.000000            0.000000   \n2                0.00           0.000000  0.076923            0.076923   \n3                0.00           0.000000  0.000000            0.000000   \n4                0.00           0.000000  0.000000            0.000000   \n5                0.00           0.000000  0.000000            0.000000   \n6                0.00           0.000000  0.000000            0.000000   \n7                0.00           0.012195  0.000000            0.000000   \n8                0.00           0.000000  0.000000            0.000000   \n9                0.00           0.000000  0.000000            0.000000   \n10               0.00           0.000000  0.000000            0.000000   \n11               0.00           0.000000  0.000000            0.000000   \n12               0.00           0.000000  0.000000            0.000000   \n13               0.00           0.000000  0.000000            0.000000   \n14               0.00           0.000000  0.000000            0.000000   \n15               0.00           0.000000  0.000000            0.000000   \n16               0.01           0.000000  0.000000            0.000000   \n17               0.00           0.000000  0.000000            0.000000   \n\n    Airport Gate  Airport Lounge  Airport Service  Airport Terminal  \\\n0       0.000000        0.000000         0.000000          0.000000   \n1       0.000000        0.000000         0.000000          0.000000   \n2       0.076923        0.153846         0.153846          0.153846   \n3       0.000000        0.000000         0.000000          0.000000   \n4       0.000000        0.000000         0.000000          0.000000   \n5       0.000000        0.000000         0.000000          0.000000   \n6       0.000000        0.000000         0.000000          0.000000   \n7       0.000000        0.000000         0.000000          0.000000   \n8       0.000000        0.000000         0.000000          0.000000   \n9       0.000000        0.000000         0.000000          0.000000   \n10      0.000000        0.000000         0.000000          0.000000   \n11      0.000000        0.000000         0.000000          0.000000   \n12      0.000000        0.000000         0.000000          0.000000   \n13      0.000000        0.000000         0.000000          0.000000   \n14      0.000000        0.000000         0.000000          0.000000   \n15      0.000000        0.000000         0.000000          0.000000   \n16      0.000000        0.000000         0.000000          0.000000   \n17      0.000000        0.000000         0.000000          0.000000   \n\n        ...        Toy / Game Store  Trail  Train Station  \\\n0       ...                0.000000   0.00           0.00   \n1       ...                0.000000   0.00           0.00   \n2       ...                0.000000   0.00           0.00   \n3       ...                0.000000   0.00           0.00   \n4       ...                0.000000   0.00           0.00   \n5       ...                0.010204   0.00           0.00   \n6       ...                0.000000   0.00           0.00   \n7       ...                0.000000   0.00           0.00   \n8       ...                0.000000   0.00           0.00   \n9       ...                0.000000   0.00           0.01   \n10      ...                0.000000   0.00           0.01   \n11      ...                0.000000   0.00           0.00   \n12      ...                0.000000   0.00           0.01   \n13      ...                0.000000   0.00           0.00   \n14      ...                0.000000   0.25           0.00   \n15      ...                0.010000   0.00           0.00   \n16      ...                0.000000   0.00           0.00   \n17      ...                0.000000   0.00           0.00   \n\n    Vegetarian / Vegan Restaurant  Video Game Store  Vietnamese Restaurant  \\\n0                        0.010000          0.000000               0.000000   \n1                        0.000000          0.000000               0.000000   \n2                        0.000000          0.000000               0.000000   \n3                        0.000000          0.000000               0.000000   \n4                        0.012821          0.000000               0.000000   \n5                        0.051020          0.000000               0.051020   \n6                        0.000000          0.000000               0.000000   \n7                        0.000000          0.012195               0.012195   \n8                        0.000000          0.000000               0.000000   \n9                        0.010000          0.000000               0.000000   \n10                       0.010000          0.000000               0.000000   \n11                       0.000000          0.027778               0.000000   \n12                       0.010000          0.000000               0.000000   \n13                       0.000000          0.000000               0.000000   \n14                       0.000000          0.000000               0.000000   \n15                       0.010000          0.010000               0.010000   \n16                       0.000000          0.000000               0.000000   \n17                       0.000000          0.000000               0.000000   \n\n    Wine Bar  Wine Shop  Wings Joint  Women's Store  \n0   0.010000   0.000000     0.000000       0.010000  \n1   0.000000   0.000000     0.000000       0.000000  \n2   0.000000   0.000000     0.000000       0.000000  \n3   0.000000   0.000000     0.000000       0.000000  \n4   0.012821   0.000000     0.000000       0.000000  \n5   0.010204   0.000000     0.000000       0.010204  \n6   0.000000   0.000000     0.000000       0.000000  \n7   0.000000   0.012195     0.012195       0.000000  \n8   0.010000   0.000000     0.000000       0.000000  \n9   0.010000   0.000000     0.000000       0.000000  \n10  0.010000   0.000000     0.000000       0.000000  \n11  0.000000   0.000000     0.000000       0.000000  \n12  0.010000   0.000000     0.000000       0.000000  \n13  0.000000   0.000000     0.000000       0.000000  \n14  0.000000   0.000000     0.000000       0.000000  \n15  0.010000   0.000000     0.000000       0.000000  \n16  0.000000   0.000000     0.000000       0.010000  \n17  0.000000   0.000000     0.000000       0.000000  \n\n[18 rows x 207 columns]", 
                        "text/html": "<div>\n<style scoped>\n    .dataframe tbody tr th:only-of-type {\n        vertical-align: middle;\n    }\n\n    .dataframe tbody tr th {\n        vertical-align: top;\n    }\n\n    .dataframe thead th {\n        text-align: right;\n    }\n</style>\n<table border=\"1\" class=\"dataframe\">\n  <thead>\n    <tr style=\"text-align: right;\">\n      <th></th>\n      <th>Neighborhood</th>\n      <th>Yoga Studio</th>\n      <th>Accessories Store</th>\n      <th>Afghan Restaurant</th>\n      <th>Airport</th>\n      <th>Airport Food Court</th>\n      <th>Airport Gate</th>\n      <th>Airport Lounge</th>\n      <th>Airport Service</th>\n      <th>Airport Terminal</th>\n      <th>...</th>\n      <th>Toy / Game Store</th>\n      <th>Trail</th>\n      <th>Train Station</th>\n      <th>Vegetarian / Vegan Restaurant</th>\n      <th>Video Game Store</th>\n      <th>Vietnamese Restaurant</th>\n      <th>Wine Bar</th>\n      <th>Wine Shop</th>\n      <th>Wings Joint</th>\n      <th>Women's Store</th>\n    </tr>\n  </thead>\n  <tbody>\n    <tr>\n      <th>0</th>\n      <td>Adelaide,King,Richmond</td>\n      <td>0.000000</td>\n      <td>0.01</td>\n      <td>0.000000</td>\n      <td>0.000000</td>\n      <td>0.000000</td>\n      <td>0.000000</td>\n      <td>0.000000</td>\n      <td>0.000000</td>\n      <td>0.000000</td>\n      <td>...</td>\n      <td>0.000000</td>\n      <td>0.00</td>\n      <td>0.00</td>\n      <td>0.010000</td>\n      <td>0.000000</td>\n      <td>0.000000</td>\n      <td>0.010000</td>\n      <td>0.000000</td>\n      <td>0.000000</td>\n      <td>0.010000</td>\n    </tr>\n    <tr>\n      <th>1</th>\n      <td>Berczy Park</td>\n      <td>0.000000</td>\n      <td>0.00</td>\n      <td>0.000000</td>\n      <td>0.000000</td>\n      <td>0.000000</td>\n      <td>0.000000</td>\n      <td>0.000000</td>\n      <td>0.000000</td>\n      <td>0.000000</td>\n      <td>...</td>\n      <td>0.000000</td>\n      <td>0.00</td>\n      <td>0.00</td>\n      <td>0.000000</td>\n      <td>0.000000</td>\n      <td>0.000000</td>\n      <td>0.000000</td>\n      <td>0.000000</td>\n      <td>0.000000</td>\n      <td>0.000000</td>\n    </tr>\n    <tr>\n      <th>2</th>\n      <td>CN Tower,Bathurst Quay,Island airport,Harbourf...</td>\n      <td>0.000000</td>\n      <td>0.00</td>\n      <td>0.000000</td>\n      <td>0.076923</td>\n      <td>0.076923</td>\n      <td>0.076923</td>\n      <td>0.153846</td>\n      <td>0.153846</td>\n      <td>0.153846</td>\n      <td>...</td>\n      <td>0.000000</td>\n      <td>0.00</td>\n      <td>0.00</td>\n      <td>0.000000</td>\n      <td>0.000000</td>\n      <td>0.000000</td>\n      <td>0.000000</td>\n      <td>0.000000</td>\n      <td>0.000000</td>\n      <td>0.000000</td>\n    </tr>\n    <tr>\n      <th>3</th>\n      <td>Cabbagetown,St. James Town</td>\n      <td>0.000000</td>\n      <td>0.00</td>\n      <td>0.000000</td>\n      <td>0.000000</td>\n      <td>0.000000</td>\n      <td>0.000000</td>\n      <td>0.000000</td>\n      <td>0.000000</td>\n      <td>0.000000</td>\n      <td>...</td>\n      <td>0.000000</td>\n      <td>0.00</td>\n      <td>0.00</td>\n      <td>0.000000</td>\n      <td>0.000000</td>\n      <td>0.000000</td>\n      <td>0.000000</td>\n      <td>0.000000</td>\n      <td>0.000000</td>\n      <td>0.000000</td>\n    </tr>\n    <tr>\n      <th>4</th>\n      <td>Central Bay Street</td>\n      <td>0.012821</td>\n      <td>0.00</td>\n      <td>0.000000</td>\n      <td>0.000000</td>\n      <td>0.000000</td>\n      <td>0.000000</td>\n      <td>0.000000</td>\n      <td>0.000000</td>\n      <td>0.000000</td>\n      <td>...</td>\n      <td>0.000000</td>\n      <td>0.00</td>\n      <td>0.00</td>\n      <td>0.012821</td>\n      <td>0.000000</td>\n      <td>0.000000</td>\n      <td>0.012821</td>\n      <td>0.000000</td>\n      <td>0.000000</td>\n      <td>0.000000</td>\n    </tr>\n    <tr>\n      <th>5</th>\n      <td>Chinatown,Grange Park,Kensington Market</td>\n      <td>0.000000</td>\n      <td>0.00</td>\n      <td>0.000000</td>\n      <td>0.000000</td>\n      <td>0.000000</td>\n      <td>0.000000</td>\n      <td>0.000000</td>\n      <td>0.000000</td>\n      <td>0.000000</td>\n      <td>...</td>\n      <td>0.010204</td>\n      <td>0.00</td>\n      <td>0.00</td>\n      <td>0.051020</td>\n      <td>0.000000</td>\n      <td>0.051020</td>\n      <td>0.010204</td>\n      <td>0.000000</td>\n      <td>0.000000</td>\n      <td>0.010204</td>\n    </tr>\n    <tr>\n      <th>6</th>\n      <td>Christie</td>\n      <td>0.000000</td>\n      <td>0.00</td>\n      <td>0.000000</td>\n      <td>0.000000</td>\n      <td>0.000000</td>\n      <td>0.000000</td>\n      <td>0.000000</td>\n      <td>0.000000</td>\n      <td>0.000000</td>\n      <td>...</td>\n      <td>0.000000</td>\n      <td>0.00</td>\n      <td>0.00</td>\n      <td>0.000000</td>\n      <td>0.000000</td>\n      <td>0.000000</td>\n      <td>0.000000</td>\n      <td>0.000000</td>\n      <td>0.000000</td>\n      <td>0.000000</td>\n    </tr>\n    <tr>\n      <th>7</th>\n      <td>Church and Wellesley</td>\n      <td>0.012195</td>\n      <td>0.00</td>\n      <td>0.012195</td>\n      <td>0.000000</td>\n      <td>0.000000</td>\n      <td>0.000000</td>\n      <td>0.000000</td>\n      <td>0.000000</td>\n      <td>0.000000</td>\n      <td>...</td>\n      <td>0.000000</td>\n      <td>0.00</td>\n      <td>0.00</td>\n      <td>0.000000</td>\n      <td>0.012195</td>\n      <td>0.012195</td>\n      <td>0.000000</td>\n      <td>0.012195</td>\n      <td>0.012195</td>\n      <td>0.000000</td>\n    </tr>\n    <tr>\n      <th>8</th>\n      <td>Commerce Court,Victoria Hotel</td>\n      <td>0.000000</td>\n      <td>0.00</td>\n      <td>0.000000</td>\n      <td>0.000000</td>\n      <td>0.000000</td>\n      <td>0.000000</td>\n      <td>0.000000</td>\n      <td>0.000000</td>\n      <td>0.000000</td>\n      <td>...</td>\n      <td>0.000000</td>\n      <td>0.00</td>\n      <td>0.00</td>\n      <td>0.000000</td>\n      <td>0.000000</td>\n      <td>0.000000</td>\n      <td>0.010000</td>\n      <td>0.000000</td>\n      <td>0.000000</td>\n      <td>0.000000</td>\n    </tr>\n    <tr>\n      <th>9</th>\n      <td>Design Exchange,Toronto Dominion Centre</td>\n      <td>0.000000</td>\n      <td>0.00</td>\n      <td>0.000000</td>\n      <td>0.000000</td>\n      <td>0.000000</td>\n      <td>0.000000</td>\n      <td>0.000000</td>\n      <td>0.000000</td>\n      <td>0.000000</td>\n      <td>...</td>\n      <td>0.000000</td>\n      <td>0.00</td>\n      <td>0.01</td>\n      <td>0.010000</td>\n      <td>0.000000</td>\n      <td>0.000000</td>\n      <td>0.010000</td>\n      <td>0.000000</td>\n      <td>0.000000</td>\n      <td>0.000000</td>\n    </tr>\n    <tr>\n      <th>10</th>\n      <td>First Canadian Place,Underground city</td>\n      <td>0.000000</td>\n      <td>0.00</td>\n      <td>0.000000</td>\n      <td>0.000000</td>\n      <td>0.000000</td>\n      <td>0.000000</td>\n      <td>0.000000</td>\n      <td>0.000000</td>\n      <td>0.000000</td>\n      <td>...</td>\n      <td>0.000000</td>\n      <td>0.00</td>\n      <td>0.01</td>\n      <td>0.010000</td>\n      <td>0.000000</td>\n      <td>0.000000</td>\n      <td>0.010000</td>\n      <td>0.000000</td>\n      <td>0.000000</td>\n      <td>0.000000</td>\n    </tr>\n    <tr>\n      <th>11</th>\n      <td>Harbord,University of Toronto</td>\n      <td>0.027778</td>\n      <td>0.00</td>\n      <td>0.000000</td>\n      <td>0.000000</td>\n      <td>0.000000</td>\n      <td>0.000000</td>\n      <td>0.000000</td>\n      <td>0.000000</td>\n      <td>0.000000</td>\n      <td>...</td>\n      <td>0.000000</td>\n      <td>0.00</td>\n      <td>0.00</td>\n      <td>0.000000</td>\n      <td>0.027778</td>\n      <td>0.000000</td>\n      <td>0.000000</td>\n      <td>0.000000</td>\n      <td>0.000000</td>\n      <td>0.000000</td>\n    </tr>\n    <tr>\n      <th>12</th>\n      <td>Harbourfront East,Toronto Islands,Union Station</td>\n      <td>0.000000</td>\n      <td>0.00</td>\n      <td>0.000000</td>\n      <td>0.000000</td>\n      <td>0.000000</td>\n      <td>0.000000</td>\n      <td>0.000000</td>\n      <td>0.000000</td>\n      <td>0.000000</td>\n      <td>...</td>\n      <td>0.000000</td>\n      <td>0.00</td>\n      <td>0.01</td>\n      <td>0.010000</td>\n      <td>0.000000</td>\n      <td>0.000000</td>\n      <td>0.010000</td>\n      <td>0.000000</td>\n      <td>0.000000</td>\n      <td>0.000000</td>\n    </tr>\n    <tr>\n      <th>13</th>\n      <td>Harbourfront,Regent Park</td>\n      <td>0.000000</td>\n      <td>0.00</td>\n      <td>0.000000</td>\n      <td>0.000000</td>\n      <td>0.000000</td>\n      <td>0.000000</td>\n      <td>0.000000</td>\n      <td>0.000000</td>\n      <td>0.000000</td>\n      <td>...</td>\n      <td>0.000000</td>\n      <td>0.00</td>\n      <td>0.00</td>\n      <td>0.000000</td>\n      <td>0.000000</td>\n      <td>0.000000</td>\n      <td>0.000000</td>\n      <td>0.000000</td>\n      <td>0.000000</td>\n      <td>0.000000</td>\n    </tr>\n    <tr>\n      <th>14</th>\n      <td>Rosedale</td>\n      <td>0.000000</td>\n      <td>0.00</td>\n      <td>0.000000</td>\n      <td>0.000000</td>\n      <td>0.000000</td>\n      <td>0.000000</td>\n      <td>0.000000</td>\n      <td>0.000000</td>\n      <td>0.000000</td>\n      <td>...</td>\n      <td>0.000000</td>\n      <td>0.25</td>\n      <td>0.00</td>\n      <td>0.000000</td>\n      <td>0.000000</td>\n      <td>0.000000</td>\n      <td>0.000000</td>\n      <td>0.000000</td>\n      <td>0.000000</td>\n      <td>0.000000</td>\n    </tr>\n    <tr>\n      <th>15</th>\n      <td>Ryerson,Garden District</td>\n      <td>0.000000</td>\n      <td>0.00</td>\n      <td>0.000000</td>\n      <td>0.000000</td>\n      <td>0.000000</td>\n      <td>0.000000</td>\n      <td>0.000000</td>\n      <td>0.000000</td>\n      <td>0.000000</td>\n      <td>...</td>\n      <td>0.010000</td>\n      <td>0.00</td>\n      <td>0.00</td>\n      <td>0.010000</td>\n      <td>0.010000</td>\n      <td>0.010000</td>\n      <td>0.010000</td>\n      <td>0.000000</td>\n      <td>0.000000</td>\n      <td>0.000000</td>\n    </tr>\n    <tr>\n      <th>16</th>\n      <td>St. James Town</td>\n      <td>0.000000</td>\n      <td>0.01</td>\n      <td>0.000000</td>\n      <td>0.000000</td>\n      <td>0.000000</td>\n      <td>0.000000</td>\n      <td>0.000000</td>\n      <td>0.000000</td>\n      <td>0.000000</td>\n      <td>...</td>\n      <td>0.000000</td>\n      <td>0.00</td>\n      <td>0.00</td>\n      <td>0.000000</td>\n      <td>0.000000</td>\n      <td>0.000000</td>\n      <td>0.000000</td>\n      <td>0.000000</td>\n      <td>0.000000</td>\n      <td>0.010000</td>\n    </tr>\n    <tr>\n      <th>17</th>\n      <td>Stn A PO Boxes 25 The Esplanade</td>\n      <td>0.000000</td>\n      <td>0.00</td>\n      <td>0.000000</td>\n      <td>0.000000</td>\n      <td>0.000000</td>\n      <td>0.000000</td>\n      <td>0.000000</td>\n      <td>0.000000</td>\n      <td>0.000000</td>\n      <td>...</td>\n      <td>0.000000</td>\n      <td>0.00</td>\n      <td>0.00</td>\n      <td>0.000000</td>\n      <td>0.000000</td>\n      <td>0.000000</td>\n      <td>0.000000</td>\n      <td>0.000000</td>\n      <td>0.000000</td>\n      <td>0.000000</td>\n    </tr>\n  </tbody>\n</table>\n<p>18 rows \u00d7 207 columns</p>\n</div>"
                    }, 
                    "execution_count": 27, 
                    "metadata": {}
                }
            ], 
            "execution_count": 27
        }, 
        {
            "source": "#checking the grouped dataframe size\ndt_grouped.shape", 
            "cell_type": "code", 
            "metadata": {}, 
            "outputs": [
                {
                    "output_type": "execute_result", 
                    "data": {
                        "text/plain": "(18, 207)"
                    }, 
                    "execution_count": 28, 
                    "metadata": {}
                }
            ], 
            "execution_count": 28
        }, 
        {
            "source": "Printing out each neighborhood along with the top 5 most common venues in it:", 
            "cell_type": "markdown", 
            "metadata": {}
        }, 
        {
            "source": "num_top_venues = 5\n\nfor hood in dt_grouped['Neighborhood']:\n    print(\"----\"+hood+\"----\")\n    temp = dt_grouped[dt_grouped['Neighborhood'] == hood].T.reset_index()\n    temp.columns = ['venue','freq']\n    temp = temp.iloc[1:]\n    temp['freq'] = temp['freq'].astype(float)\n    temp = temp.round({'freq': 2})\n    print(temp.sort_values('freq', ascending=False).reset_index(drop=True).head(num_top_venues))\n    print('\\n')", 
            "cell_type": "code", 
            "metadata": {}, 
            "outputs": [
                {
                    "output_type": "stream", 
                    "name": "stdout", 
                    "text": "----Adelaide,King,Richmond----\n             venue  freq\n0      Coffee Shop  0.06\n1              Bar  0.04\n2  Thai Restaurant  0.04\n3       Steakhouse  0.04\n4             Caf\u00e9  0.04\n\n\n----Berczy Park----\n                venue  freq\n0         Coffee Shop  0.08\n1          Restaurant  0.05\n2        Cocktail Bar  0.05\n3  Italian Restaurant  0.03\n4          Steakhouse  0.03\n\n\n----CN Tower,Bathurst Quay,Island airport,Harbourfront West,King and Spadina,Railway Lands,South Niagara----\n              venue  freq\n0    Airport Lounge  0.15\n1  Airport Terminal  0.15\n2   Airport Service  0.15\n3     Boat or Ferry  0.08\n4   Harbor / Marina  0.08\n\n\n----Cabbagetown,St. James Town----\n         venue  freq\n0  Coffee Shop  0.09\n1   Restaurant  0.07\n2       Market  0.05\n3         Caf\u00e9  0.05\n4       Bakery  0.05\n\n\n----Central Bay Street----\n                venue  freq\n0         Coffee Shop  0.17\n1                Caf\u00e9  0.06\n2  Italian Restaurant  0.05\n3        Burger Joint  0.04\n4                 Bar  0.04\n\n\n----Chinatown,Grange Park,Kensington Market----\n                           venue  freq\n0                           Caf\u00e9  0.07\n1                            Bar  0.05\n2          Vietnamese Restaurant  0.05\n3  Vegetarian / Vegan Restaurant  0.05\n4                    Coffee Shop  0.04\n\n\n----Christie----\n               venue  freq\n0               Caf\u00e9  0.20\n1      Grocery Store  0.20\n2               Park  0.13\n3         Restaurant  0.07\n4  Convenience Store  0.07\n\n\n----Church and Wellesley----\n                 venue  freq\n0          Coffee Shop  0.07\n1  Japanese Restaurant  0.07\n2              Gay Bar  0.04\n3           Restaurant  0.04\n4         Burger Joint  0.04\n\n\n----Commerce Court,Victoria Hotel----\n                 venue  freq\n0          Coffee Shop  0.13\n1                 Caf\u00e9  0.06\n2                Hotel  0.06\n3  American Restaurant  0.04\n4           Restaurant  0.04\n\n\n----Design Exchange,Toronto Dominion Centre----\n                 venue  freq\n0          Coffee Shop  0.13\n1                 Caf\u00e9  0.08\n2                Hotel  0.07\n3  American Restaurant  0.04\n4   Italian Restaurant  0.03\n\n\n----First Canadian Place,Underground city----\n                 venue  freq\n0          Coffee Shop  0.08\n1                 Caf\u00e9  0.07\n2                Hotel  0.06\n3           Steakhouse  0.04\n4  American Restaurant  0.03\n\n\n----Harbord,University of Toronto----\n                 venue  freq\n0                 Caf\u00e9  0.17\n1  Japanese Restaurant  0.06\n2               Bakery  0.06\n3           Restaurant  0.06\n4            Bookstore  0.06\n\n\n----Harbourfront East,Toronto Islands,Union Station----\n                venue  freq\n0         Coffee Shop  0.13\n1            Aquarium  0.05\n2               Hotel  0.05\n3  Italian Restaurant  0.04\n4                Caf\u00e9  0.04\n\n\n----Harbourfront,Regent Park----\n         venue  freq\n0  Coffee Shop  0.16\n1         Caf\u00e9  0.08\n2       Bakery  0.06\n3         Park  0.06\n4          Pub  0.06\n\n\n----Rosedale----\n           venue  freq\n0           Park  0.50\n1     Playground  0.25\n2          Trail  0.25\n3    Yoga Studio  0.00\n4  Movie Theater  0.00\n\n\n----Ryerson,Garden District----\n                       venue  freq\n0                Coffee Shop  0.08\n1             Clothing Store  0.07\n2                       Caf\u00e9  0.04\n3             Cosmetics Shop  0.04\n4  Middle Eastern Restaurant  0.03\n\n\n----St. James Town----\n            venue  freq\n0     Coffee Shop  0.07\n1      Restaurant  0.06\n2            Caf\u00e9  0.05\n3           Hotel  0.05\n4  Breakfast Spot  0.04\n\n\n----Stn A PO Boxes 25 The Esplanade----\n          venue  freq\n0   Coffee Shop  0.09\n1    Restaurant  0.05\n2          Caf\u00e9  0.04\n3         Hotel  0.03\n4  Cocktail Bar  0.03\n\n\n"
                }
            ], 
            "execution_count": 29
        }, 
        {
            "source": "Converting the results to Pandas dataframe:", 
            "cell_type": "markdown", 
            "metadata": {}
        }, 
        {
            "source": "#function to sort the venues in descending order:\n\ndef return_most_common_venues(row, num_top_venues):\n    row_categories = row.iloc[1:]\n    row_categories_sorted = row_categories.sort_values(ascending=False)\n    \n    return row_categories_sorted.index.values[0:num_top_venues]", 
            "cell_type": "code", 
            "metadata": {}, 
            "outputs": [], 
            "execution_count": 30
        }, 
        {
            "source": "#create the new dataframe and display the top 10 venues for each neighborhood:\n\nnum_top_venues = 10\n\nindicators = ['st', 'nd', 'rd']\n\n# create columns according to number of top venues\ncolumns = ['Neighborhood']\nfor ind in np.arange(num_top_venues):\n    try:\n        columns.append('{}{} Most Common Venue'.format(ind+1, indicators[ind]))\n    except:\n        columns.append('{}th Most Common Venue'.format(ind+1))\n\n# create a new dataframe\nneighborhoods_venues_sorted = pd.DataFrame(columns=columns)\nneighborhoods_venues_sorted['Neighborhood'] = dt_grouped['Neighborhood']\n\nfor ind in np.arange(dt_grouped.shape[0]):\n    neighborhoods_venues_sorted.iloc[ind, 1:] = return_most_common_venues(dt_grouped.iloc[ind, :], num_top_venues)\n\nneighborhoods_venues_sorted.head()", 
            "cell_type": "code", 
            "metadata": {}, 
            "outputs": [
                {
                    "output_type": "execute_result", 
                    "data": {
                        "text/plain": "                                        Neighborhood 1st Most Common Venue  \\\n0                             Adelaide,King,Richmond           Coffee Shop   \n1                                        Berczy Park           Coffee Shop   \n2  CN Tower,Bathurst Quay,Island airport,Harbourf...        Airport Lounge   \n3                         Cabbagetown,St. James Town           Coffee Shop   \n4                                 Central Bay Street           Coffee Shop   \n\n  2nd Most Common Venue 3rd Most Common Venue 4th Most Common Venue  \\\n0            Steakhouse                   Bar       Thai Restaurant   \n1          Cocktail Bar            Restaurant                  Caf\u00e9   \n2      Airport Terminal       Airport Service       Harbor / Marina   \n3            Restaurant                  Park                   Pub   \n4                  Caf\u00e9    Italian Restaurant          Burger Joint   \n\n  5th Most Common Venue 6th Most Common Venue 7th Most Common Venue  \\\n0                  Caf\u00e9   American Restaurant                 Hotel   \n1                   Pub        Farmers Market                Bakery   \n2      Sculpture Garden              Boutique         Boat or Ferry   \n3    Italian Restaurant                Bakery                  Caf\u00e9   \n4                   Bar      Sushi Restaurant       Bubble Tea Shop   \n\n  8th Most Common Venue 9th Most Common Venue 10th Most Common Venue  \n0      Asian Restaurant      Sushi Restaurant                 Bakery  \n1    Seafood Restaurant            Steakhouse            Cheese Shop  \n2          Airport Gate               Airport     Airport Food Court  \n3                Market           Pizza Place              Pet Store  \n4                   Spa    Chinese Restaurant            Salad Place  ", 
                        "text/html": "<div>\n<style scoped>\n    .dataframe tbody tr th:only-of-type {\n        vertical-align: middle;\n    }\n\n    .dataframe tbody tr th {\n        vertical-align: top;\n    }\n\n    .dataframe thead th {\n        text-align: right;\n    }\n</style>\n<table border=\"1\" class=\"dataframe\">\n  <thead>\n    <tr style=\"text-align: right;\">\n      <th></th>\n      <th>Neighborhood</th>\n      <th>1st Most Common Venue</th>\n      <th>2nd Most Common Venue</th>\n      <th>3rd Most Common Venue</th>\n      <th>4th Most Common Venue</th>\n      <th>5th Most Common Venue</th>\n      <th>6th Most Common Venue</th>\n      <th>7th Most Common Venue</th>\n      <th>8th Most Common Venue</th>\n      <th>9th Most Common Venue</th>\n      <th>10th Most Common Venue</th>\n    </tr>\n  </thead>\n  <tbody>\n    <tr>\n      <th>0</th>\n      <td>Adelaide,King,Richmond</td>\n      <td>Coffee Shop</td>\n      <td>Steakhouse</td>\n      <td>Bar</td>\n      <td>Thai Restaurant</td>\n      <td>Caf\u00e9</td>\n      <td>American Restaurant</td>\n      <td>Hotel</td>\n      <td>Asian Restaurant</td>\n      <td>Sushi Restaurant</td>\n      <td>Bakery</td>\n    </tr>\n    <tr>\n      <th>1</th>\n      <td>Berczy Park</td>\n      <td>Coffee Shop</td>\n      <td>Cocktail Bar</td>\n      <td>Restaurant</td>\n      <td>Caf\u00e9</td>\n      <td>Pub</td>\n      <td>Farmers Market</td>\n      <td>Bakery</td>\n      <td>Seafood Restaurant</td>\n      <td>Steakhouse</td>\n      <td>Cheese Shop</td>\n    </tr>\n    <tr>\n      <th>2</th>\n      <td>CN Tower,Bathurst Quay,Island airport,Harbourf...</td>\n      <td>Airport Lounge</td>\n      <td>Airport Terminal</td>\n      <td>Airport Service</td>\n      <td>Harbor / Marina</td>\n      <td>Sculpture Garden</td>\n      <td>Boutique</td>\n      <td>Boat or Ferry</td>\n      <td>Airport Gate</td>\n      <td>Airport</td>\n      <td>Airport Food Court</td>\n    </tr>\n    <tr>\n      <th>3</th>\n      <td>Cabbagetown,St. James Town</td>\n      <td>Coffee Shop</td>\n      <td>Restaurant</td>\n      <td>Park</td>\n      <td>Pub</td>\n      <td>Italian Restaurant</td>\n      <td>Bakery</td>\n      <td>Caf\u00e9</td>\n      <td>Market</td>\n      <td>Pizza Place</td>\n      <td>Pet Store</td>\n    </tr>\n    <tr>\n      <th>4</th>\n      <td>Central Bay Street</td>\n      <td>Coffee Shop</td>\n      <td>Caf\u00e9</td>\n      <td>Italian Restaurant</td>\n      <td>Burger Joint</td>\n      <td>Bar</td>\n      <td>Sushi Restaurant</td>\n      <td>Bubble Tea Shop</td>\n      <td>Spa</td>\n      <td>Chinese Restaurant</td>\n      <td>Salad Place</td>\n    </tr>\n  </tbody>\n</table>\n</div>"
                    }, 
                    "execution_count": 31, 
                    "metadata": {}
                }
            ], 
            "execution_count": 31
        }, 
        {
            "source": "### 3.4 Cluster Neighborhoods", 
            "cell_type": "markdown", 
            "metadata": {}
        }, 
        {
            "source": "Run k-means to cluster the neighborhood into 5 clusters.", 
            "cell_type": "markdown", 
            "metadata": {}
        }, 
        {
            "source": "# set number of clusters\nkclusters = 4\n\ndt_grouped_clustering = dt_grouped.drop('Neighborhood', 1)\n\n# run k-means clustering\nkmeans = KMeans(n_clusters=kclusters, random_state=0).fit(dt_grouped_clustering)\n\n# check cluster labels generated for each row in the dataframe\nkmeans.labels_[0:10]", 
            "cell_type": "code", 
            "metadata": {}, 
            "outputs": [
                {
                    "output_type": "execute_result", 
                    "data": {
                        "text/plain": "array([0, 0, 2, 0, 0, 0, 3, 0, 0, 0], dtype=int32)"
                    }, 
                    "execution_count": 32, 
                    "metadata": {}
                }
            ], 
            "execution_count": 32
        }, 
        {
            "source": "Let's create a new dataframe that includes the cluster as well as the top 10 venues for each neighborhood.", 
            "cell_type": "markdown", 
            "metadata": {}
        }, 
        {
            "source": "# add clustering labels\nneighborhoods_venues_sorted.insert(0, 'Labels', kmeans.labels_)\n\ndt_merged = toronto\n\n# merge downtown_grouped with toronto data to add latitude/longitude for each neighborhood\n# I realized that I've misspelled the NeighboUrhood column name in Toronto dataframe. oops...\ndt_merged = dt_merged.join(neighborhoods_venues_sorted.set_index('Neighborhood'), on='Neighbourhood')\n\ndt_merged.head()", 
            "cell_type": "code", 
            "metadata": {}, 
            "outputs": [
                {
                    "output_type": "execute_result", 
                    "data": {
                        "text/plain": "  Postcode           Borough               Neighbourhood Latitude Longitude  \\\n0      M4W  Downtown Toronto                    Rosedale  43.6796  -79.3775   \n1      M4X  Downtown Toronto  Cabbagetown,St. James Town   43.668  -79.3677   \n2      M4Y  Downtown Toronto        Church and Wellesley  43.6659  -79.3832   \n3      M5A  Downtown Toronto    Harbourfront,Regent Park  43.6543  -79.3606   \n4      M5B  Downtown Toronto     Ryerson,Garden District  43.6572  -79.3789   \n\n   Labels 1st Most Common Venue 2nd Most Common Venue 3rd Most Common Venue  \\\n0       1                  Park            Playground                 Trail   \n1       0           Coffee Shop            Restaurant                  Park   \n2       0           Coffee Shop   Japanese Restaurant            Restaurant   \n3       0           Coffee Shop                  Caf\u00e9                Bakery   \n4       0           Coffee Shop        Clothing Store                  Caf\u00e9   \n\n  4th Most Common Venue      5th Most Common Venue 6th Most Common Venue  \\\n0         Deli / Bodega          Electronics Store   Dumpling Restaurant   \n1                   Pub         Italian Restaurant                Bakery   \n2               Gay Bar               Burger Joint       Bubble Tea Shop   \n3                   Pub                       Park               Theater   \n4        Cosmetics Shop  Middle Eastern Restaurant      Ramen Restaurant   \n\n  7th Most Common Venue 8th Most Common Venue 9th Most Common Venue  \\\n0            Donut Shop      Doner Restaurant               Dog Run   \n1                  Caf\u00e9                Market           Pizza Place   \n2      Sushi Restaurant           Men's Store                  Caf\u00e9   \n3        Breakfast Spot    Mexican Restaurant            Restaurant   \n4              Tea Room        Lingerie Store       Bubble Tea Shop   \n\n     10th Most Common Venue  \n0            Discount Store  \n1                 Pet Store  \n2  Mediterranean Restaurant  \n3         Health Food Store  \n4               Pizza Place  ", 
                        "text/html": "<div>\n<style scoped>\n    .dataframe tbody tr th:only-of-type {\n        vertical-align: middle;\n    }\n\n    .dataframe tbody tr th {\n        vertical-align: top;\n    }\n\n    .dataframe thead th {\n        text-align: right;\n    }\n</style>\n<table border=\"1\" class=\"dataframe\">\n  <thead>\n    <tr style=\"text-align: right;\">\n      <th></th>\n      <th>Postcode</th>\n      <th>Borough</th>\n      <th>Neighbourhood</th>\n      <th>Latitude</th>\n      <th>Longitude</th>\n      <th>Labels</th>\n      <th>1st Most Common Venue</th>\n      <th>2nd Most Common Venue</th>\n      <th>3rd Most Common Venue</th>\n      <th>4th Most Common Venue</th>\n      <th>5th Most Common Venue</th>\n      <th>6th Most Common Venue</th>\n      <th>7th Most Common Venue</th>\n      <th>8th Most Common Venue</th>\n      <th>9th Most Common Venue</th>\n      <th>10th Most Common Venue</th>\n    </tr>\n  </thead>\n  <tbody>\n    <tr>\n      <th>0</th>\n      <td>M4W</td>\n      <td>Downtown Toronto</td>\n      <td>Rosedale</td>\n      <td>43.6796</td>\n      <td>-79.3775</td>\n      <td>1</td>\n      <td>Park</td>\n      <td>Playground</td>\n      <td>Trail</td>\n      <td>Deli / Bodega</td>\n      <td>Electronics Store</td>\n      <td>Dumpling Restaurant</td>\n      <td>Donut Shop</td>\n      <td>Doner Restaurant</td>\n      <td>Dog Run</td>\n      <td>Discount Store</td>\n    </tr>\n    <tr>\n      <th>1</th>\n      <td>M4X</td>\n      <td>Downtown Toronto</td>\n      <td>Cabbagetown,St. James Town</td>\n      <td>43.668</td>\n      <td>-79.3677</td>\n      <td>0</td>\n      <td>Coffee Shop</td>\n      <td>Restaurant</td>\n      <td>Park</td>\n      <td>Pub</td>\n      <td>Italian Restaurant</td>\n      <td>Bakery</td>\n      <td>Caf\u00e9</td>\n      <td>Market</td>\n      <td>Pizza Place</td>\n      <td>Pet Store</td>\n    </tr>\n    <tr>\n      <th>2</th>\n      <td>M4Y</td>\n      <td>Downtown Toronto</td>\n      <td>Church and Wellesley</td>\n      <td>43.6659</td>\n      <td>-79.3832</td>\n      <td>0</td>\n      <td>Coffee Shop</td>\n      <td>Japanese Restaurant</td>\n      <td>Restaurant</td>\n      <td>Gay Bar</td>\n      <td>Burger Joint</td>\n      <td>Bubble Tea Shop</td>\n      <td>Sushi Restaurant</td>\n      <td>Men's Store</td>\n      <td>Caf\u00e9</td>\n      <td>Mediterranean Restaurant</td>\n    </tr>\n    <tr>\n      <th>3</th>\n      <td>M5A</td>\n      <td>Downtown Toronto</td>\n      <td>Harbourfront,Regent Park</td>\n      <td>43.6543</td>\n      <td>-79.3606</td>\n      <td>0</td>\n      <td>Coffee Shop</td>\n      <td>Caf\u00e9</td>\n      <td>Bakery</td>\n      <td>Pub</td>\n      <td>Park</td>\n      <td>Theater</td>\n      <td>Breakfast Spot</td>\n      <td>Mexican Restaurant</td>\n      <td>Restaurant</td>\n      <td>Health Food Store</td>\n    </tr>\n    <tr>\n      <th>4</th>\n      <td>M5B</td>\n      <td>Downtown Toronto</td>\n      <td>Ryerson,Garden District</td>\n      <td>43.6572</td>\n      <td>-79.3789</td>\n      <td>0</td>\n      <td>Coffee Shop</td>\n      <td>Clothing Store</td>\n      <td>Caf\u00e9</td>\n      <td>Cosmetics Shop</td>\n      <td>Middle Eastern Restaurant</td>\n      <td>Ramen Restaurant</td>\n      <td>Tea Room</td>\n      <td>Lingerie Store</td>\n      <td>Bubble Tea Shop</td>\n      <td>Pizza Place</td>\n    </tr>\n  </tbody>\n</table>\n</div>"
                    }, 
                    "execution_count": 34, 
                    "metadata": {}
                }
            ], 
            "execution_count": 34
        }, 
        {
            "source": "Visualize the resulting clusters on map:", 
            "cell_type": "markdown", 
            "metadata": {}
        }, 
        {
            "source": "# create map\nmap_clusters = folium.Map(location=[latitude, longitude], zoom_start=13)\n\n# set color scheme for the clusters\nx = np.arange(kclusters)\nys = [i + x + (i*x)**2 for i in range(kclusters)]\ncolors_array = cm.rainbow(np.linspace(0, 1, len(ys)))\nrainbow = [colors.rgb2hex(i) for i in colors_array]\n\n# add markers to the map\nmarkers_colors = []\nfor lat, lon, poi, cluster in zip(dt_merged['Latitude'], dt_merged['Longitude'], dt_merged['Neighbourhood'], dt_merged['Labels']):\n    label = folium.Popup(str(poi) + ' Cluster ' + str(cluster), parse_html=True)\n    folium.CircleMarker(\n        [lat, lon],\n        radius=9,\n        popup=label,\n        color=rainbow[cluster-1],\n        fill=True,\n        fill_color=rainbow[cluster-1],\n        fill_opacity=0.7).add_to(map_clusters)\n       \nmap_clusters", 
            "cell_type": "code", 
            "metadata": {}, 
            "outputs": [], 
            "execution_count": null
        }, 
        {
            "source": "### 3.5 Examine the clusters", 
            "cell_type": "markdown", 
            "metadata": {}
        }, 
        {
            "source": "#Cluster 1\ndt_merged.loc[dt_merged['Labels'] == 0, dt_merged.columns[[1] + list(range(5, dt_merged.shape[1]))]]", 
            "cell_type": "code", 
            "metadata": {}, 
            "outputs": [
                {
                    "output_type": "execute_result", 
                    "data": {
                        "text/plain": "             Borough  Labels 1st Most Common Venue  2nd Most Common Venue  \\\n1   Downtown Toronto       0           Coffee Shop             Restaurant   \n2   Downtown Toronto       0           Coffee Shop    Japanese Restaurant   \n3   Downtown Toronto       0           Coffee Shop                   Caf\u00e9   \n4   Downtown Toronto       0           Coffee Shop         Clothing Store   \n5   Downtown Toronto       0           Coffee Shop             Restaurant   \n6   Downtown Toronto       0           Coffee Shop           Cocktail Bar   \n7   Downtown Toronto       0           Coffee Shop                   Caf\u00e9   \n8   Downtown Toronto       0           Coffee Shop             Steakhouse   \n9   Downtown Toronto       0           Coffee Shop                  Hotel   \n10  Downtown Toronto       0           Coffee Shop                   Caf\u00e9   \n11  Downtown Toronto       0           Coffee Shop                   Caf\u00e9   \n12  Downtown Toronto       0                  Caf\u00e9             Restaurant   \n13  Downtown Toronto       0                  Caf\u00e9  Vietnamese Restaurant   \n15  Downtown Toronto       0           Coffee Shop             Restaurant   \n16  Downtown Toronto       0           Coffee Shop                   Caf\u00e9   \n\n   3rd Most Common Venue          4th Most Common Venue  \\\n1                   Park                            Pub   \n2             Restaurant                        Gay Bar   \n3                 Bakery                            Pub   \n4                   Caf\u00e9                 Cosmetics Shop   \n5                  Hotel                           Caf\u00e9   \n6             Restaurant                           Caf\u00e9   \n7     Italian Restaurant                   Burger Joint   \n8                    Bar                Thai Restaurant   \n9               Aquarium             Italian Restaurant   \n10                 Hotel            American Restaurant   \n11                 Hotel            American Restaurant   \n12             Bookstore            Japanese Restaurant   \n13                   Bar  Vegetarian / Vegan Restaurant   \n15                  Caf\u00e9             Seafood Restaurant   \n16                 Hotel                     Steakhouse   \n\n        5th Most Common Venue 6th Most Common Venue 7th Most Common Venue  \\\n1          Italian Restaurant                Bakery                  Caf\u00e9   \n2                Burger Joint       Bubble Tea Shop      Sushi Restaurant   \n3                        Park               Theater        Breakfast Spot   \n4   Middle Eastern Restaurant      Ramen Restaurant              Tea Room   \n5              Breakfast Spot        Clothing Store                Bakery   \n6                         Pub        Farmers Market                Bakery   \n7                         Bar      Sushi Restaurant       Bubble Tea Shop   \n8                        Caf\u00e9   American Restaurant                 Hotel   \n9                        Caf\u00e9   Fried Chicken Joint               Brewery   \n10                 Restaurant    Seafood Restaurant    Italian Restaurant   \n11                 Restaurant             Gastropub                   Gym   \n12                        Bar                Bakery           Yoga Studio   \n13                     Bakery           Coffee Shop    Chinese Restaurant   \n15                      Hotel                   Pub          Cocktail Bar   \n16              Deli / Bodega             Gastropub                Bakery   \n\n   8th Most Common Venue 9th Most Common Venue    10th Most Common Venue  \n1                 Market           Pizza Place                 Pet Store  \n2            Men's Store                  Caf\u00e9  Mediterranean Restaurant  \n3     Mexican Restaurant            Restaurant         Health Food Store  \n4         Lingerie Store       Bubble Tea Shop               Pizza Place  \n5         Cosmetics Shop             Gastropub                       Gym  \n6     Seafood Restaurant            Steakhouse               Cheese Shop  \n7                    Spa    Chinese Restaurant               Salad Place  \n8       Asian Restaurant      Sushi Restaurant                    Bakery  \n9         Scenic Lookout           Pizza Place               Music Venue  \n10         Deli / Bodega             Gastropub                    Bakery  \n11    Seafood Restaurant                Bakery                Steakhouse  \n12    Chinese Restaurant        Sandwich Place   Comfort Food Restaurant  \n13    Mexican Restaurant  Caribbean Restaurant   Comfort Food Restaurant  \n15  Fast Food Restaurant    Italian Restaurant                  Creperie  \n16                   Bar          Burger Joint        Seafood Restaurant  ", 
                        "text/html": "<div>\n<style scoped>\n    .dataframe tbody tr th:only-of-type {\n        vertical-align: middle;\n    }\n\n    .dataframe tbody tr th {\n        vertical-align: top;\n    }\n\n    .dataframe thead th {\n        text-align: right;\n    }\n</style>\n<table border=\"1\" class=\"dataframe\">\n  <thead>\n    <tr style=\"text-align: right;\">\n      <th></th>\n      <th>Borough</th>\n      <th>Labels</th>\n      <th>1st Most Common Venue</th>\n      <th>2nd Most Common Venue</th>\n      <th>3rd Most Common Venue</th>\n      <th>4th Most Common Venue</th>\n      <th>5th Most Common Venue</th>\n      <th>6th Most Common Venue</th>\n      <th>7th Most Common Venue</th>\n      <th>8th Most Common Venue</th>\n      <th>9th Most Common Venue</th>\n      <th>10th Most Common Venue</th>\n    </tr>\n  </thead>\n  <tbody>\n    <tr>\n      <th>1</th>\n      <td>Downtown Toronto</td>\n      <td>0</td>\n      <td>Coffee Shop</td>\n      <td>Restaurant</td>\n      <td>Park</td>\n      <td>Pub</td>\n      <td>Italian Restaurant</td>\n      <td>Bakery</td>\n      <td>Caf\u00e9</td>\n      <td>Market</td>\n      <td>Pizza Place</td>\n      <td>Pet Store</td>\n    </tr>\n    <tr>\n      <th>2</th>\n      <td>Downtown Toronto</td>\n      <td>0</td>\n      <td>Coffee Shop</td>\n      <td>Japanese Restaurant</td>\n      <td>Restaurant</td>\n      <td>Gay Bar</td>\n      <td>Burger Joint</td>\n      <td>Bubble Tea Shop</td>\n      <td>Sushi Restaurant</td>\n      <td>Men's Store</td>\n      <td>Caf\u00e9</td>\n      <td>Mediterranean Restaurant</td>\n    </tr>\n    <tr>\n      <th>3</th>\n      <td>Downtown Toronto</td>\n      <td>0</td>\n      <td>Coffee Shop</td>\n      <td>Caf\u00e9</td>\n      <td>Bakery</td>\n      <td>Pub</td>\n      <td>Park</td>\n      <td>Theater</td>\n      <td>Breakfast Spot</td>\n      <td>Mexican Restaurant</td>\n      <td>Restaurant</td>\n      <td>Health Food Store</td>\n    </tr>\n    <tr>\n      <th>4</th>\n      <td>Downtown Toronto</td>\n      <td>0</td>\n      <td>Coffee Shop</td>\n      <td>Clothing Store</td>\n      <td>Caf\u00e9</td>\n      <td>Cosmetics Shop</td>\n      <td>Middle Eastern Restaurant</td>\n      <td>Ramen Restaurant</td>\n      <td>Tea Room</td>\n      <td>Lingerie Store</td>\n      <td>Bubble Tea Shop</td>\n      <td>Pizza Place</td>\n    </tr>\n    <tr>\n      <th>5</th>\n      <td>Downtown Toronto</td>\n      <td>0</td>\n      <td>Coffee Shop</td>\n      <td>Restaurant</td>\n      <td>Hotel</td>\n      <td>Caf\u00e9</td>\n      <td>Breakfast Spot</td>\n      <td>Clothing Store</td>\n      <td>Bakery</td>\n      <td>Cosmetics Shop</td>\n      <td>Gastropub</td>\n      <td>Gym</td>\n    </tr>\n    <tr>\n      <th>6</th>\n      <td>Downtown Toronto</td>\n      <td>0</td>\n      <td>Coffee Shop</td>\n      <td>Cocktail Bar</td>\n      <td>Restaurant</td>\n      <td>Caf\u00e9</td>\n      <td>Pub</td>\n      <td>Farmers Market</td>\n      <td>Bakery</td>\n      <td>Seafood Restaurant</td>\n      <td>Steakhouse</td>\n      <td>Cheese Shop</td>\n    </tr>\n    <tr>\n      <th>7</th>\n      <td>Downtown Toronto</td>\n      <td>0</td>\n      <td>Coffee Shop</td>\n      <td>Caf\u00e9</td>\n      <td>Italian Restaurant</td>\n      <td>Burger Joint</td>\n      <td>Bar</td>\n      <td>Sushi Restaurant</td>\n      <td>Bubble Tea Shop</td>\n      <td>Spa</td>\n      <td>Chinese Restaurant</td>\n      <td>Salad Place</td>\n    </tr>\n    <tr>\n      <th>8</th>\n      <td>Downtown Toronto</td>\n      <td>0</td>\n      <td>Coffee Shop</td>\n      <td>Steakhouse</td>\n      <td>Bar</td>\n      <td>Thai Restaurant</td>\n      <td>Caf\u00e9</td>\n      <td>American Restaurant</td>\n      <td>Hotel</td>\n      <td>Asian Restaurant</td>\n      <td>Sushi Restaurant</td>\n      <td>Bakery</td>\n    </tr>\n    <tr>\n      <th>9</th>\n      <td>Downtown Toronto</td>\n      <td>0</td>\n      <td>Coffee Shop</td>\n      <td>Hotel</td>\n      <td>Aquarium</td>\n      <td>Italian Restaurant</td>\n      <td>Caf\u00e9</td>\n      <td>Fried Chicken Joint</td>\n      <td>Brewery</td>\n      <td>Scenic Lookout</td>\n      <td>Pizza Place</td>\n      <td>Music Venue</td>\n    </tr>\n    <tr>\n      <th>10</th>\n      <td>Downtown Toronto</td>\n      <td>0</td>\n      <td>Coffee Shop</td>\n      <td>Caf\u00e9</td>\n      <td>Hotel</td>\n      <td>American Restaurant</td>\n      <td>Restaurant</td>\n      <td>Seafood Restaurant</td>\n      <td>Italian Restaurant</td>\n      <td>Deli / Bodega</td>\n      <td>Gastropub</td>\n      <td>Bakery</td>\n    </tr>\n    <tr>\n      <th>11</th>\n      <td>Downtown Toronto</td>\n      <td>0</td>\n      <td>Coffee Shop</td>\n      <td>Caf\u00e9</td>\n      <td>Hotel</td>\n      <td>American Restaurant</td>\n      <td>Restaurant</td>\n      <td>Gastropub</td>\n      <td>Gym</td>\n      <td>Seafood Restaurant</td>\n      <td>Bakery</td>\n      <td>Steakhouse</td>\n    </tr>\n    <tr>\n      <th>12</th>\n      <td>Downtown Toronto</td>\n      <td>0</td>\n      <td>Caf\u00e9</td>\n      <td>Restaurant</td>\n      <td>Bookstore</td>\n      <td>Japanese Restaurant</td>\n      <td>Bar</td>\n      <td>Bakery</td>\n      <td>Yoga Studio</td>\n      <td>Chinese Restaurant</td>\n      <td>Sandwich Place</td>\n      <td>Comfort Food Restaurant</td>\n    </tr>\n    <tr>\n      <th>13</th>\n      <td>Downtown Toronto</td>\n      <td>0</td>\n      <td>Caf\u00e9</td>\n      <td>Vietnamese Restaurant</td>\n      <td>Bar</td>\n      <td>Vegetarian / Vegan Restaurant</td>\n      <td>Bakery</td>\n      <td>Coffee Shop</td>\n      <td>Chinese Restaurant</td>\n      <td>Mexican Restaurant</td>\n      <td>Caribbean Restaurant</td>\n      <td>Comfort Food Restaurant</td>\n    </tr>\n    <tr>\n      <th>15</th>\n      <td>Downtown Toronto</td>\n      <td>0</td>\n      <td>Coffee Shop</td>\n      <td>Restaurant</td>\n      <td>Caf\u00e9</td>\n      <td>Seafood Restaurant</td>\n      <td>Hotel</td>\n      <td>Pub</td>\n      <td>Cocktail Bar</td>\n      <td>Fast Food Restaurant</td>\n      <td>Italian Restaurant</td>\n      <td>Creperie</td>\n    </tr>\n    <tr>\n      <th>16</th>\n      <td>Downtown Toronto</td>\n      <td>0</td>\n      <td>Coffee Shop</td>\n      <td>Caf\u00e9</td>\n      <td>Hotel</td>\n      <td>Steakhouse</td>\n      <td>Deli / Bodega</td>\n      <td>Gastropub</td>\n      <td>Bakery</td>\n      <td>Bar</td>\n      <td>Burger Joint</td>\n      <td>Seafood Restaurant</td>\n    </tr>\n  </tbody>\n</table>\n</div>"
                    }, 
                    "execution_count": 36, 
                    "metadata": {}
                }
            ], 
            "execution_count": 36
        }, 
        {
            "source": "#Cluster 2\ndt_merged.loc[dt_merged['Labels'] == 1, dt_merged.columns[[1] + list(range(5, dt_merged.shape[1]))]]", 
            "cell_type": "code", 
            "metadata": {}, 
            "outputs": [
                {
                    "output_type": "execute_result", 
                    "data": {
                        "text/plain": "            Borough  Labels 1st Most Common Venue 2nd Most Common Venue  \\\n0  Downtown Toronto       1                  Park            Playground   \n\n  3rd Most Common Venue 4th Most Common Venue 5th Most Common Venue  \\\n0                 Trail         Deli / Bodega     Electronics Store   \n\n  6th Most Common Venue 7th Most Common Venue 8th Most Common Venue  \\\n0   Dumpling Restaurant            Donut Shop      Doner Restaurant   \n\n  9th Most Common Venue 10th Most Common Venue  \n0               Dog Run         Discount Store  ", 
                        "text/html": "<div>\n<style scoped>\n    .dataframe tbody tr th:only-of-type {\n        vertical-align: middle;\n    }\n\n    .dataframe tbody tr th {\n        vertical-align: top;\n    }\n\n    .dataframe thead th {\n        text-align: right;\n    }\n</style>\n<table border=\"1\" class=\"dataframe\">\n  <thead>\n    <tr style=\"text-align: right;\">\n      <th></th>\n      <th>Borough</th>\n      <th>Labels</th>\n      <th>1st Most Common Venue</th>\n      <th>2nd Most Common Venue</th>\n      <th>3rd Most Common Venue</th>\n      <th>4th Most Common Venue</th>\n      <th>5th Most Common Venue</th>\n      <th>6th Most Common Venue</th>\n      <th>7th Most Common Venue</th>\n      <th>8th Most Common Venue</th>\n      <th>9th Most Common Venue</th>\n      <th>10th Most Common Venue</th>\n    </tr>\n  </thead>\n  <tbody>\n    <tr>\n      <th>0</th>\n      <td>Downtown Toronto</td>\n      <td>1</td>\n      <td>Park</td>\n      <td>Playground</td>\n      <td>Trail</td>\n      <td>Deli / Bodega</td>\n      <td>Electronics Store</td>\n      <td>Dumpling Restaurant</td>\n      <td>Donut Shop</td>\n      <td>Doner Restaurant</td>\n      <td>Dog Run</td>\n      <td>Discount Store</td>\n    </tr>\n  </tbody>\n</table>\n</div>"
                    }, 
                    "execution_count": 37, 
                    "metadata": {}
                }
            ], 
            "execution_count": 37
        }, 
        {
            "source": "#Cluster 3\ndt_merged.loc[dt_merged['Labels'] == 2, dt_merged.columns[[1] + list(range(5, dt_merged.shape[1]))]]", 
            "cell_type": "code", 
            "metadata": {}, 
            "outputs": [
                {
                    "output_type": "execute_result", 
                    "data": {
                        "text/plain": "             Borough  Labels 1st Most Common Venue 2nd Most Common Venue  \\\n14  Downtown Toronto       2        Airport Lounge      Airport Terminal   \n\n   3rd Most Common Venue 4th Most Common Venue 5th Most Common Venue  \\\n14       Airport Service       Harbor / Marina      Sculpture Garden   \n\n   6th Most Common Venue 7th Most Common Venue 8th Most Common Venue  \\\n14              Boutique         Boat or Ferry          Airport Gate   \n\n   9th Most Common Venue 10th Most Common Venue  \n14               Airport     Airport Food Court  ", 
                        "text/html": "<div>\n<style scoped>\n    .dataframe tbody tr th:only-of-type {\n        vertical-align: middle;\n    }\n\n    .dataframe tbody tr th {\n        vertical-align: top;\n    }\n\n    .dataframe thead th {\n        text-align: right;\n    }\n</style>\n<table border=\"1\" class=\"dataframe\">\n  <thead>\n    <tr style=\"text-align: right;\">\n      <th></th>\n      <th>Borough</th>\n      <th>Labels</th>\n      <th>1st Most Common Venue</th>\n      <th>2nd Most Common Venue</th>\n      <th>3rd Most Common Venue</th>\n      <th>4th Most Common Venue</th>\n      <th>5th Most Common Venue</th>\n      <th>6th Most Common Venue</th>\n      <th>7th Most Common Venue</th>\n      <th>8th Most Common Venue</th>\n      <th>9th Most Common Venue</th>\n      <th>10th Most Common Venue</th>\n    </tr>\n  </thead>\n  <tbody>\n    <tr>\n      <th>14</th>\n      <td>Downtown Toronto</td>\n      <td>2</td>\n      <td>Airport Lounge</td>\n      <td>Airport Terminal</td>\n      <td>Airport Service</td>\n      <td>Harbor / Marina</td>\n      <td>Sculpture Garden</td>\n      <td>Boutique</td>\n      <td>Boat or Ferry</td>\n      <td>Airport Gate</td>\n      <td>Airport</td>\n      <td>Airport Food Court</td>\n    </tr>\n  </tbody>\n</table>\n</div>"
                    }, 
                    "execution_count": 38, 
                    "metadata": {}
                }
            ], 
            "execution_count": 38
        }, 
        {
            "source": "#Cluster 4\ndt_merged.loc[dt_merged['Labels'] == 3, dt_merged.columns[[1] + list(range(5, dt_merged.shape[1]))]]", 
            "cell_type": "code", 
            "metadata": {}, 
            "outputs": [
                {
                    "output_type": "execute_result", 
                    "data": {
                        "text/plain": "             Borough  Labels 1st Most Common Venue 2nd Most Common Venue  \\\n17  Downtown Toronto       3         Grocery Store                  Caf\u00e9   \n\n   3rd Most Common Venue 4th Most Common Venue 5th Most Common Venue  \\\n17                  Park    Italian Restaurant           Coffee Shop   \n\n   6th Most Common Venue 7th Most Common Venue 8th Most Common Venue  \\\n17     Convenience Store             Nightclub                 Diner   \n\n   9th Most Common Venue 10th Most Common Venue  \n17            Restaurant             Baby Store  ", 
                        "text/html": "<div>\n<style scoped>\n    .dataframe tbody tr th:only-of-type {\n        vertical-align: middle;\n    }\n\n    .dataframe tbody tr th {\n        vertical-align: top;\n    }\n\n    .dataframe thead th {\n        text-align: right;\n    }\n</style>\n<table border=\"1\" class=\"dataframe\">\n  <thead>\n    <tr style=\"text-align: right;\">\n      <th></th>\n      <th>Borough</th>\n      <th>Labels</th>\n      <th>1st Most Common Venue</th>\n      <th>2nd Most Common Venue</th>\n      <th>3rd Most Common Venue</th>\n      <th>4th Most Common Venue</th>\n      <th>5th Most Common Venue</th>\n      <th>6th Most Common Venue</th>\n      <th>7th Most Common Venue</th>\n      <th>8th Most Common Venue</th>\n      <th>9th Most Common Venue</th>\n      <th>10th Most Common Venue</th>\n    </tr>\n  </thead>\n  <tbody>\n    <tr>\n      <th>17</th>\n      <td>Downtown Toronto</td>\n      <td>3</td>\n      <td>Grocery Store</td>\n      <td>Caf\u00e9</td>\n      <td>Park</td>\n      <td>Italian Restaurant</td>\n      <td>Coffee Shop</td>\n      <td>Convenience Store</td>\n      <td>Nightclub</td>\n      <td>Diner</td>\n      <td>Restaurant</td>\n      <td>Baby Store</td>\n    </tr>\n  </tbody>\n</table>\n</div>"
                    }, 
                    "execution_count": 39, 
                    "metadata": {}
                }
            ], 
            "execution_count": 39
        }, 
        {
            "source": "### 3.6 Conclusion:", 
            "cell_type": "markdown", 
            "metadata": {}
        }, 
        {
            "source": "\nAs seen from the above dataframes corresponding to each cluster label, the following conclusions can be made:\n\n1. Cluster 1: the most common venue type is Coffee Shop, followed by restaurants and bars.\n2. Cluster 2: the most common venue type is Park or Playground.\n3. Cluster 3: the most common venue type is Airport Lounge.\n4. Cluster 4: the most common venue type is Grocery Store.\nThe most popular venue type in Downtown Toronto is Coffee Shop, containing 16 venues total.", 
            "cell_type": "markdown", 
            "metadata": {}
        }
    ], 
    "metadata": {
        "kernelspec": {
            "display_name": "Python 3.5", 
            "name": "python3", 
            "language": "python"
        }, 
        "language_info": {
            "mimetype": "text/x-python", 
            "nbconvert_exporter": "python", 
            "version": "3.5.5", 
            "name": "python", 
            "pygments_lexer": "ipython3", 
            "file_extension": ".py", 
            "codemirror_mode": {
                "version": 3, 
                "name": "ipython"
            }
        }
    }, 
    "nbformat": 4
}